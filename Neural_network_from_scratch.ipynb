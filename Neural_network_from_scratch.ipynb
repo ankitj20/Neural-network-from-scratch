{
  "nbformat": 4,
  "nbformat_minor": 0,
  "metadata": {
    "colab": {
      "provenance": []
    },
    "kernelspec": {
      "name": "python3",
      "display_name": "Python 3"
    },
    "language_info": {
      "name": "python"
    }
  },
  "cells": [
    {
      "cell_type": "code",
      "execution_count": 1,
      "metadata": {
        "colab": {
          "base_uri": "https://localhost:8080/"
        },
        "id": "V1cFoJs1dWTY",
        "outputId": "32dc5604-1c28-419e-c73c-e416bcfbf6a8"
      },
      "outputs": [
        {
          "output_type": "stream",
          "name": "stderr",
          "text": [
            "/usr/local/lib/python3.10/dist-packages/sklearn/datasets/_openml.py:1022: FutureWarning: The default value of `parser` will change from `'liac-arff'` to `'auto'` in 1.4. You can set `parser='auto'` to silence this warning. Therefore, an `ImportError` will be raised from 1.4 if the dataset is dense and pandas is not installed. Note that the pandas parser may return different data types. See the Notes Section in fetch_openml's API doc for details.\n",
            "  warn(\n"
          ]
        }
      ],
      "source": [
        "import numpy as np\n",
        "from sklearn.datasets import fetch_openml # We are using it only once to load mnist dataset\n",
        "\n",
        "# Load MNIST data\n",
        "mnist = fetch_openml('mnist_784', as_frame=False)\n",
        "X, y = mnist.data, mnist.target\n",
        "X = X / 255.0  # Normalize pixel values\n",
        "y = y.astype(int)  # Convert labels to integers\n",
        "\n",
        "# Split the data into training and testing sets\n",
        "X_train, X_test, y_train, y_test = X[:60000], X[60000:], y[:60000], y[60000:]"
      ]
    },
    {
      "cell_type": "code",
      "source": [
        "def initialize():\n",
        "    # Initializing weights and biases for 3 layers\n",
        "    weights1 = np.random.randn(784, 104) * np.sqrt(2. / 784)\n",
        "    bias1 = np.zeros((1, 104))\n",
        "\n",
        "    weights2 = np.random.randn(104, 64) * np.sqrt(2. / 104)\n",
        "    bias2 = np.zeros((1, 64))\n",
        "\n",
        "    weights3 = np.random.randn(64, 10) * np.sqrt(2. / 64)\n",
        "    bias3 = np.zeros((1, 10))\n",
        "\n",
        "    # Initializing velocity terms for momentum\n",
        "    v_w1 = np.zeros_like(weights1)\n",
        "    v_b1 = np.zeros_like(bias1)\n",
        "    v_w2 = np.zeros_like(weights2)\n",
        "    v_b2 = np.zeros_like(bias2)\n",
        "    v_w3 = np.zeros_like(weights3)\n",
        "    v_b3 = np.zeros_like(bias3)\n",
        "\n",
        "    return weights1, bias1, weights2, bias2, weights3, bias3, v_w1, v_b1, v_w2, v_b2, v_w3, v_b3"
      ],
      "metadata": {
        "id": "DKJFmkaWdqQr"
      },
      "execution_count": 2,
      "outputs": []
    },
    {
      "cell_type": "code",
      "source": [
        "def relu(z):\n",
        "    return np.maximum(0, z)\n",
        "\n",
        "def relu_deriv(z):\n",
        "    return (z > 0).astype(float)\n",
        "\n",
        "def softmax(z):\n",
        "    exp = np.exp(z - np.max(z, axis=1, keepdims=True))  # Subtracting maximum to prevent overflow\n",
        "    return exp / np.sum(exp, axis=1, keepdims=True)"
      ],
      "metadata": {
        "id": "xCGRqgghdwEM"
      },
      "execution_count": 3,
      "outputs": []
    },
    {
      "cell_type": "code",
      "source": [
        "def forward(X, w1, b1, w2, b2, w3, b3):\n",
        "    z1 = np.dot(X, w1) + b1\n",
        "    a1 = relu(z1)\n",
        "\n",
        "    z2 = np.dot(a1, w2) + b2\n",
        "    a2 = relu(z2)\n",
        "\n",
        "    z3 = np.dot(a2, w3) + b3\n",
        "    a3 = softmax(z3)\n",
        "\n",
        "    return z1, a1, z2, a2, z3, a3"
      ],
      "metadata": {
        "id": "i6H2aVCvdy0p"
      },
      "execution_count": 4,
      "outputs": []
    },
    {
      "cell_type": "code",
      "source": [
        "def one_hot_encode(y, num_classes):\n",
        "    one_hot = np.zeros((y.size, num_classes))\n",
        "    one_hot[np.arange(y.size), y] = 1\n",
        "    return one_hot"
      ],
      "metadata": {
        "id": "4O-HjSdBd1Ox"
      },
      "execution_count": 5,
      "outputs": []
    },
    {
      "cell_type": "code",
      "source": [
        "def back_prop(X, y, z1, a1, z2, a2, z3, a3, w1, w2, w3, lambda_reg):\n",
        "    m = X.shape[0]\n",
        "    y = one_hot_encode(y, 10)\n",
        "\n",
        "    dz3 = a3 - y\n",
        "    dw3 = np.dot(a2.T, dz3) / m + (lambda_reg / m) * w3  # L2 regularization\n",
        "    db3 = np.sum(dz3, axis=0, keepdims=True) / m\n",
        "\n",
        "    dz2 = np.dot(dz3, w3.T) * relu_deriv(z2)\n",
        "    dw2 = np.dot(a1.T, dz2) / m + (lambda_reg / m) * w2  # L2 regularization\n",
        "    db2 = np.sum(dz2, axis=0, keepdims=True) / m\n",
        "\n",
        "    dz1 = np.dot(dz2, w2.T) * relu_deriv(z1)\n",
        "    dw1 = np.dot(X.T, dz1) / m + (lambda_reg / m) * w1  # L2 regularization\n",
        "    db1 = np.sum(dz1, axis=0, keepdims=True) / m\n",
        "\n",
        "    return dw1, db1, dw2, db2, dw3, db3"
      ],
      "metadata": {
        "id": "WiyS6IDud3QC"
      },
      "execution_count": 6,
      "outputs": []
    },
    {
      "cell_type": "code",
      "source": [
        "def update_params_nag(w1, b1, w2, b2, w3, b3, dw1, db1, dw2, db2, dw3, db3,\n",
        "                      v_w1, v_b1, v_w2, v_b2, v_w3, v_b3, alpha, beta):\n",
        "    # Lookahead step\n",
        "    lookahead_w1 = w1 - beta * v_w1\n",
        "    lookahead_b1 = b1 - beta * v_b1\n",
        "    lookahead_w2 = w2 - beta * v_w2\n",
        "    lookahead_b2 = b2 - beta * v_b2\n",
        "    lookahead_w3 = w3 - beta * v_w3\n",
        "    lookahead_b3 = b3 - beta * v_b3\n",
        "\n",
        "    # Compute gradients at the lookahead positions\n",
        "    z1_lookahead, a1_lookahead, z2_lookahead, a2_lookahead, z3_lookahead, a3_lookahead = forward(\n",
        "        X_train, lookahead_w1, lookahead_b1, lookahead_w2, lookahead_b2, lookahead_w3, lookahead_b3\n",
        "    )\n",
        "    dw1_lookahead, db1_lookahead, dw2_lookahead, db2_lookahead, dw3_lookahead, db3_lookahead = back_prop(\n",
        "        X_train, y_train, z1_lookahead, a1_lookahead, z2_lookahead, a2_lookahead, z3_lookahead, a3_lookahead,\n",
        "        lookahead_w1, lookahead_w2, lookahead_w3, lambda_reg=0.01\n",
        "    )\n",
        "\n",
        "    # Update velocities\n",
        "    v_w1 = beta * v_w1 + (1 - beta) * dw1_lookahead\n",
        "    v_b1 = beta * v_b1 + (1 - beta) * db1_lookahead\n",
        "    v_w2 = beta * v_w2 + (1 - beta) * dw2_lookahead\n",
        "    v_b2 = beta * v_b2 + (1 - beta) * db2_lookahead\n",
        "    v_w3 = beta * v_w3 + (1 - beta) * dw3_lookahead\n",
        "    v_b3 = beta * v_b3 + (1 - beta) * db3_lookahead\n",
        "\n",
        "    # Update parameters with momentum\n",
        "    w1 -= alpha * v_w1\n",
        "    b1 -= alpha * v_b1\n",
        "    w2 -= alpha * v_w2\n",
        "    b2 -= alpha * v_b2\n",
        "    w3 -= alpha * v_w3\n",
        "    b3 -= alpha * v_b3\n",
        "\n",
        "    return w1, b1, w2, b2, w3, b3, v_w1, v_b1, v_w2, v_b2, v_w3, v_b3"
      ],
      "metadata": {
        "id": "hIyUNY0nd5rZ"
      },
      "execution_count": 7,
      "outputs": []
    },
    {
      "cell_type": "code",
      "source": [
        "def get_predictions(A3):\n",
        "    return np.argmax(A3, axis=1)\n",
        "\n",
        "def get_accuracy(predictions, Y):\n",
        "    return np.sum(predictions == Y) / Y.size"
      ],
      "metadata": {
        "id": "V97mYoNmd9Fx"
      },
      "execution_count": 8,
      "outputs": []
    },
    {
      "cell_type": "code",
      "source": [
        "def train(X, y, input_size, hidden_size1, hidden_size2, output_size, epochs, learning_rate, lambda_reg, beta):\n",
        "    weights1, bias1, weights2, bias2, weights3, bias3, v_w1, v_b1, v_w2, v_b2, v_w3, v_b3 = initialize()\n",
        "\n",
        "    for epoch in range(epochs):\n",
        "        z1, a1, z2, a2, z3, a3 = forward(X, weights1, bias1, weights2, bias2, weights3, bias3)\n",
        "        dw1, db1, dw2, db2, dw3, db3 = back_prop(X, y, z1, a1, z2, a2, z3, a3, weights1, weights2, weights3, lambda_reg)\n",
        "        weights1, bias1, weights2, bias2, weights3, bias3, v_w1, v_b1, v_w2, v_b2, v_w3, v_b3 = update_params_nag(\n",
        "            weights1, bias1, weights2, bias2, weights3, bias3,\n",
        "            dw1, db1, dw2, db2, dw3, db3,\n",
        "            v_w1, v_b1, v_w2, v_b2, v_w3, v_b3,\n",
        "            learning_rate, beta\n",
        "        )\n",
        "\n",
        "        if epoch % 10 == 0:\n",
        "            loss = -np.mean(np.sum(one_hot_encode(y, 10) * np.log(a3 + 1e-8), axis=1))  # Numerical stability with log\n",
        "            reg_loss = (lambda_reg / (2 * X.shape[0])) * (np.sum(np.square(weights1)) + np.sum(np.square(weights2)) + np.sum(np.square(weights3)))  # L2 regularization term\n",
        "            total_loss = loss + reg_loss\n",
        "            print(f'Epoch {epoch}, Loss: {total_loss}')\n",
        "\n",
        "    return weights1, bias1, weights2, bias2, weights3, bias3"
      ],
      "metadata": {
        "id": "BeJfVwqpeABW"
      },
      "execution_count": 11,
      "outputs": []
    },
    {
      "cell_type": "code",
      "source": [
        "def predict(X, weights1, bias1, weights2, bias2, weights3, bias3):\n",
        "    _, _, _, _, _, a3 = forward(X, weights1, bias1, weights2, bias2, weights3, bias3)\n",
        "    return np.argmax(a3, axis=1)"
      ],
      "metadata": {
        "id": "2Ud6u_fmeDpl"
      },
      "execution_count": 10,
      "outputs": []
    },
    {
      "cell_type": "code",
      "source": [
        "# Train the model\n",
        "weights1, bias1, weights2, bias2, weights3, bias3 = train(X_train, y_train, 784, 104, 64, 10, epochs=1000, learning_rate=0.01, lambda_reg=0.01, beta=0.9)"
      ],
      "metadata": {
        "colab": {
          "base_uri": "https://localhost:8080/"
        },
        "id": "nxhwGwNbeHCG",
        "outputId": "d4344e3d-2fd4-4b1c-ae23-d26b66d18601"
      },
      "execution_count": 12,
      "outputs": [
        {
          "output_type": "stream",
          "name": "stdout",
          "text": [
            "Epoch 0, Loss: 2.358157852299036\n",
            "Epoch 10, Loss: 2.3112128691328135\n",
            "Epoch 20, Loss: 2.2395714135505917\n",
            "Epoch 30, Loss: 2.159444779000644\n",
            "Epoch 40, Loss: 2.075731679716933\n",
            "Epoch 50, Loss: 1.9907878414258813\n",
            "Epoch 60, Loss: 1.9061527146942026\n",
            "Epoch 70, Loss: 1.8230396244272462\n",
            "Epoch 80, Loss: 1.74234808419861\n",
            "Epoch 90, Loss: 1.6647069316455296\n",
            "Epoch 100, Loss: 1.5905549397776477\n",
            "Epoch 110, Loss: 1.5201652438018858\n",
            "Epoch 120, Loss: 1.4536548047304603\n",
            "Epoch 130, Loss: 1.3910079738028926\n",
            "Epoch 140, Loss: 1.3321933283300609\n",
            "Epoch 150, Loss: 1.2771140641776348\n",
            "Epoch 160, Loss: 1.2256000598862018\n",
            "Epoch 170, Loss: 1.1774814027296319\n",
            "Epoch 180, Loss: 1.132587729516382\n",
            "Epoch 190, Loss: 1.0907200010148994\n",
            "Epoch 200, Loss: 1.0516771754777827\n",
            "Epoch 210, Loss: 1.0152795917315034\n",
            "Epoch 220, Loss: 0.9813379625645288\n",
            "Epoch 230, Loss: 0.949678060943342\n",
            "Epoch 240, Loss: 0.9201361517884574\n",
            "Epoch 250, Loss: 0.8925548117677374\n",
            "Epoch 260, Loss: 0.8667822647498076\n",
            "Epoch 270, Loss: 0.8426813329817554\n",
            "Epoch 280, Loss: 0.8201232482954941\n",
            "Epoch 290, Loss: 0.7989898339634418\n",
            "Epoch 300, Loss: 0.7791723579340574\n",
            "Epoch 310, Loss: 0.7605723591514971\n",
            "Epoch 320, Loss: 0.7430973249183904\n",
            "Epoch 330, Loss: 0.7266586472554846\n",
            "Epoch 340, Loss: 0.7111771673594648\n",
            "Epoch 350, Loss: 0.6965832262952495\n",
            "Epoch 360, Loss: 0.6828108800224312\n",
            "Epoch 370, Loss: 0.6697996822774454\n",
            "Epoch 380, Loss: 0.6574920654885049\n",
            "Epoch 390, Loss: 0.6458354969134715\n",
            "Epoch 400, Loss: 0.6347854662014677\n",
            "Epoch 410, Loss: 0.6243039650077471\n",
            "Epoch 420, Loss: 0.6143488368815228\n",
            "Epoch 430, Loss: 0.6048843712756827\n",
            "Epoch 440, Loss: 0.5958758429647268\n",
            "Epoch 450, Loss: 0.5872936396230533\n",
            "Epoch 460, Loss: 0.5791079890455173\n",
            "Epoch 470, Loss: 0.571294214378221\n",
            "Epoch 480, Loss: 0.5638287805326325\n",
            "Epoch 490, Loss: 0.5566909281024208\n",
            "Epoch 500, Loss: 0.5498598587761799\n",
            "Epoch 510, Loss: 0.5433178722006322\n",
            "Epoch 520, Loss: 0.5370477981105061\n",
            "Epoch 530, Loss: 0.5310318388496957\n",
            "Epoch 540, Loss: 0.525255571016313\n",
            "Epoch 550, Loss: 0.519705809399462\n",
            "Epoch 560, Loss: 0.5143696299652263\n",
            "Epoch 570, Loss: 0.5092351752417726\n",
            "Epoch 580, Loss: 0.504290838007121\n",
            "Epoch 590, Loss: 0.4995269017081218\n",
            "Epoch 600, Loss: 0.4949336847357526\n",
            "Epoch 610, Loss: 0.4905027911070076\n",
            "Epoch 620, Loss: 0.48622519642720435\n",
            "Epoch 630, Loss: 0.48209237229653534\n",
            "Epoch 640, Loss: 0.47809755980907975\n",
            "Epoch 650, Loss: 0.474234024642621\n",
            "Epoch 660, Loss: 0.47049434361998443\n",
            "Epoch 670, Loss: 0.46687341480316563\n",
            "Epoch 680, Loss: 0.46336600304526054\n",
            "Epoch 690, Loss: 0.4599658695877462\n",
            "Epoch 700, Loss: 0.456668810259047\n",
            "Epoch 710, Loss: 0.4534705794169188\n",
            "Epoch 720, Loss: 0.4503655876124925\n",
            "Epoch 730, Loss: 0.447349380033386\n",
            "Epoch 740, Loss: 0.44441876634574606\n",
            "Epoch 750, Loss: 0.44156962431123137\n",
            "Epoch 760, Loss: 0.43879892794018216\n",
            "Epoch 770, Loss: 0.43610411190345727\n",
            "Epoch 780, Loss: 0.4334813147832026\n",
            "Epoch 790, Loss: 0.4309278254824236\n",
            "Epoch 800, Loss: 0.42844034789965213\n",
            "Epoch 810, Loss: 0.4260158741682087\n",
            "Epoch 820, Loss: 0.42365230285843153\n",
            "Epoch 830, Loss: 0.42134722852807804\n",
            "Epoch 840, Loss: 0.41909847344476087\n",
            "Epoch 850, Loss: 0.4169036477191386\n",
            "Epoch 860, Loss: 0.4147608554856147\n",
            "Epoch 870, Loss: 0.4126679915709794\n",
            "Epoch 880, Loss: 0.4106230691563674\n",
            "Epoch 890, Loss: 0.4086244271061414\n",
            "Epoch 900, Loss: 0.40667046325974926\n",
            "Epoch 910, Loss: 0.40475922249908924\n",
            "Epoch 920, Loss: 0.4028895507221975\n",
            "Epoch 930, Loss: 0.40106030811964005\n",
            "Epoch 940, Loss: 0.3992692232328259\n",
            "Epoch 950, Loss: 0.39751492022210766\n",
            "Epoch 960, Loss: 0.39579637847103805\n",
            "Epoch 970, Loss: 0.3941127069747153\n",
            "Epoch 980, Loss: 0.3924625231392361\n",
            "Epoch 990, Loss: 0.39084426724942056\n"
          ]
        }
      ]
    },
    {
      "cell_type": "code",
      "source": [
        "# Evaluate the model\n",
        "predictions = predict(X_test, weights1, bias1, weights2, bias2, weights3, bias3)\n",
        "accuracy = get_accuracy(predictions, y_test)\n",
        "print(f'Test Accuracy: {accuracy * 100}%')"
      ],
      "metadata": {
        "colab": {
          "base_uri": "https://localhost:8080/"
        },
        "id": "RB2Xn6OiePde",
        "outputId": "dfbeeec2-b555-46ca-80ff-10a9c2f878ca"
      },
      "execution_count": 13,
      "outputs": [
        {
          "output_type": "stream",
          "name": "stdout",
          "text": [
            "Test Accuracy: 90.06%\n"
          ]
        }
      ]
    },
    {
      "cell_type": "code",
      "source": [],
      "metadata": {
        "id": "UW6pybifplzh"
      },
      "execution_count": null,
      "outputs": []
    }
  ]
}